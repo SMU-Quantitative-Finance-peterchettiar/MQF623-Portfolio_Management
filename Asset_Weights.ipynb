{
 "cells": [
  {
   "cell_type": "markdown",
   "id": "ca1ab744",
   "metadata": {},
   "source": [
    "# <u> Mean-Variance Optimisation"
   ]
  },
  {
   "cell_type": "markdown",
   "id": "a0224182",
   "metadata": {},
   "source": [
    "## Importing packages and reading historical prices CSV"
   ]
  },
  {
   "cell_type": "code",
   "execution_count": 1,
   "id": "51f88c1b",
   "metadata": {},
   "outputs": [],
   "source": [
    "#Importing packages\n",
    "\n",
    "import seaborn as sns\n",
    "sns.set_theme(style=\"darkgrid\")\n",
    "import matplotlib.pyplot as plt\n",
    "%matplotlib inline\n",
    "\n",
    "import numpy as np\n",
    "import pandas as pd\n",
    "\n",
    "import warnings\n",
    "warnings.filterwarnings('ignore')"
   ]
  },
  {
   "cell_type": "code",
   "execution_count": 2,
   "id": "1f777a57",
   "metadata": {},
   "outputs": [
    {
     "data": {
      "text/html": [
       "<div>\n",
       "<style scoped>\n",
       "    .dataframe tbody tr th:only-of-type {\n",
       "        vertical-align: middle;\n",
       "    }\n",
       "\n",
       "    .dataframe tbody tr th {\n",
       "        vertical-align: top;\n",
       "    }\n",
       "\n",
       "    .dataframe thead th {\n",
       "        text-align: right;\n",
       "    }\n",
       "</style>\n",
       "<table border=\"1\" class=\"dataframe\">\n",
       "  <thead>\n",
       "    <tr style=\"text-align: right;\">\n",
       "      <th></th>\n",
       "      <th>BTC</th>\n",
       "      <th>ETH</th>\n",
       "      <th>LTC</th>\n",
       "      <th>BNB</th>\n",
       "      <th>XRP</th>\n",
       "      <th>ADA</th>\n",
       "      <th>AAVE</th>\n",
       "      <th>SOL</th>\n",
       "      <th>DOGE</th>\n",
       "      <th>TRX</th>\n",
       "      <th>NEO</th>\n",
       "      <th>MATIC</th>\n",
       "      <th>DOT</th>\n",
       "      <th>SHIB</th>\n",
       "      <th>NEAR</th>\n",
       "      <th>UNI</th>\n",
       "    </tr>\n",
       "    <tr>\n",
       "      <th>date</th>\n",
       "      <th></th>\n",
       "      <th></th>\n",
       "      <th></th>\n",
       "      <th></th>\n",
       "      <th></th>\n",
       "      <th></th>\n",
       "      <th></th>\n",
       "      <th></th>\n",
       "      <th></th>\n",
       "      <th></th>\n",
       "      <th></th>\n",
       "      <th></th>\n",
       "      <th></th>\n",
       "      <th></th>\n",
       "      <th></th>\n",
       "      <th></th>\n",
       "    </tr>\n",
       "  </thead>\n",
       "  <tbody>\n",
       "    <tr>\n",
       "      <th>2018-01-01</th>\n",
       "      <td>13380.00</td>\n",
       "      <td>754.99</td>\n",
       "      <td>222.61</td>\n",
       "      <td>8.4500</td>\n",
       "      <td>0.0000</td>\n",
       "      <td>0.0000</td>\n",
       "      <td>0.0</td>\n",
       "      <td>0.00</td>\n",
       "      <td>0.00000</td>\n",
       "      <td>0.00000</td>\n",
       "      <td>78.299</td>\n",
       "      <td>0.000</td>\n",
       "      <td>0.00</td>\n",
       "      <td>0.000000</td>\n",
       "      <td>0.000</td>\n",
       "      <td>0.00</td>\n",
       "    </tr>\n",
       "    <tr>\n",
       "      <th>2018-02-01</th>\n",
       "      <td>14675.11</td>\n",
       "      <td>855.28</td>\n",
       "      <td>247.33</td>\n",
       "      <td>8.7150</td>\n",
       "      <td>0.0000</td>\n",
       "      <td>0.0000</td>\n",
       "      <td>0.0</td>\n",
       "      <td>0.00</td>\n",
       "      <td>0.00000</td>\n",
       "      <td>0.00000</td>\n",
       "      <td>89.696</td>\n",
       "      <td>0.000</td>\n",
       "      <td>0.00</td>\n",
       "      <td>0.000000</td>\n",
       "      <td>0.000</td>\n",
       "      <td>0.00</td>\n",
       "    </tr>\n",
       "    <tr>\n",
       "      <th>2018-03-01</th>\n",
       "      <td>14919.51</td>\n",
       "      <td>934.03</td>\n",
       "      <td>238.77</td>\n",
       "      <td>9.3040</td>\n",
       "      <td>0.0000</td>\n",
       "      <td>0.0000</td>\n",
       "      <td>0.0</td>\n",
       "      <td>0.00</td>\n",
       "      <td>0.00000</td>\n",
       "      <td>0.00000</td>\n",
       "      <td>103.505</td>\n",
       "      <td>0.000</td>\n",
       "      <td>0.00</td>\n",
       "      <td>0.000000</td>\n",
       "      <td>0.000</td>\n",
       "      <td>0.00</td>\n",
       "    </tr>\n",
       "    <tr>\n",
       "      <th>2018-04-01</th>\n",
       "      <td>15059.54</td>\n",
       "      <td>940.00</td>\n",
       "      <td>233.00</td>\n",
       "      <td>9.1430</td>\n",
       "      <td>0.0000</td>\n",
       "      <td>0.0000</td>\n",
       "      <td>0.0</td>\n",
       "      <td>0.00</td>\n",
       "      <td>0.00000</td>\n",
       "      <td>0.00000</td>\n",
       "      <td>97.669</td>\n",
       "      <td>0.000</td>\n",
       "      <td>0.00</td>\n",
       "      <td>0.000000</td>\n",
       "      <td>0.000</td>\n",
       "      <td>0.00</td>\n",
       "    </tr>\n",
       "    <tr>\n",
       "      <th>2018-05-01</th>\n",
       "      <td>16960.39</td>\n",
       "      <td>959.30</td>\n",
       "      <td>240.54</td>\n",
       "      <td>14.8908</td>\n",
       "      <td>0.0000</td>\n",
       "      <td>0.0000</td>\n",
       "      <td>0.0</td>\n",
       "      <td>0.00</td>\n",
       "      <td>0.00000</td>\n",
       "      <td>0.00000</td>\n",
       "      <td>95.134</td>\n",
       "      <td>0.000</td>\n",
       "      <td>0.00</td>\n",
       "      <td>0.000000</td>\n",
       "      <td>0.000</td>\n",
       "      <td>0.00</td>\n",
       "    </tr>\n",
       "    <tr>\n",
       "      <th>...</th>\n",
       "      <td>...</td>\n",
       "      <td>...</td>\n",
       "      <td>...</td>\n",
       "      <td>...</td>\n",
       "      <td>...</td>\n",
       "      <td>...</td>\n",
       "      <td>...</td>\n",
       "      <td>...</td>\n",
       "      <td>...</td>\n",
       "      <td>...</td>\n",
       "      <td>...</td>\n",
       "      <td>...</td>\n",
       "      <td>...</td>\n",
       "      <td>...</td>\n",
       "      <td>...</td>\n",
       "      <td>...</td>\n",
       "    </tr>\n",
       "    <tr>\n",
       "      <th>2022-05-27</th>\n",
       "      <td>28629.80</td>\n",
       "      <td>1727.27</td>\n",
       "      <td>61.60</td>\n",
       "      <td>301.6000</td>\n",
       "      <td>0.3819</td>\n",
       "      <td>0.4566</td>\n",
       "      <td>92.4</td>\n",
       "      <td>41.17</td>\n",
       "      <td>0.08160</td>\n",
       "      <td>0.08083</td>\n",
       "      <td>10.290</td>\n",
       "      <td>0.574</td>\n",
       "      <td>9.12</td>\n",
       "      <td>0.000010</td>\n",
       "      <td>4.806</td>\n",
       "      <td>4.69</td>\n",
       "    </tr>\n",
       "    <tr>\n",
       "      <th>2022-05-28</th>\n",
       "      <td>29031.33</td>\n",
       "      <td>1792.22</td>\n",
       "      <td>63.00</td>\n",
       "      <td>307.5000</td>\n",
       "      <td>0.3863</td>\n",
       "      <td>0.4646</td>\n",
       "      <td>95.5</td>\n",
       "      <td>44.25</td>\n",
       "      <td>0.08180</td>\n",
       "      <td>0.08118</td>\n",
       "      <td>10.470</td>\n",
       "      <td>0.588</td>\n",
       "      <td>9.65</td>\n",
       "      <td>0.000011</td>\n",
       "      <td>4.998</td>\n",
       "      <td>4.98</td>\n",
       "    </tr>\n",
       "    <tr>\n",
       "      <th>2022-05-29</th>\n",
       "      <td>29468.10</td>\n",
       "      <td>1813.64</td>\n",
       "      <td>63.60</td>\n",
       "      <td>305.8000</td>\n",
       "      <td>0.3891</td>\n",
       "      <td>0.4820</td>\n",
       "      <td>95.5</td>\n",
       "      <td>44.98</td>\n",
       "      <td>0.08270</td>\n",
       "      <td>0.08055</td>\n",
       "      <td>10.640</td>\n",
       "      <td>0.600</td>\n",
       "      <td>9.98</td>\n",
       "      <td>0.000011</td>\n",
       "      <td>5.182</td>\n",
       "      <td>4.95</td>\n",
       "    </tr>\n",
       "    <tr>\n",
       "      <th>2022-05-30</th>\n",
       "      <td>31734.22</td>\n",
       "      <td>1998.78</td>\n",
       "      <td>69.10</td>\n",
       "      <td>321.8000</td>\n",
       "      <td>0.4187</td>\n",
       "      <td>0.5698</td>\n",
       "      <td>117.4</td>\n",
       "      <td>47.22</td>\n",
       "      <td>0.08800</td>\n",
       "      <td>0.08325</td>\n",
       "      <td>11.780</td>\n",
       "      <td>0.658</td>\n",
       "      <td>10.47</td>\n",
       "      <td>0.000012</td>\n",
       "      <td>5.760</td>\n",
       "      <td>5.66</td>\n",
       "    </tr>\n",
       "    <tr>\n",
       "      <th>2022-05-31</th>\n",
       "      <td>31801.04</td>\n",
       "      <td>1941.90</td>\n",
       "      <td>68.40</td>\n",
       "      <td>320.9000</td>\n",
       "      <td>0.4217</td>\n",
       "      <td>0.6268</td>\n",
       "      <td>112.9</td>\n",
       "      <td>45.77</td>\n",
       "      <td>0.08591</td>\n",
       "      <td>0.08441</td>\n",
       "      <td>11.570</td>\n",
       "      <td>0.663</td>\n",
       "      <td>10.35</td>\n",
       "      <td>0.000012</td>\n",
       "      <td>5.957</td>\n",
       "      <td>5.70</td>\n",
       "    </tr>\n",
       "  </tbody>\n",
       "</table>\n",
       "<p>1612 rows × 16 columns</p>\n",
       "</div>"
      ],
      "text/plain": [
       "                 BTC      ETH     LTC       BNB     XRP     ADA   AAVE    SOL  \\\n",
       "date                                                                            \n",
       "2018-01-01  13380.00   754.99  222.61    8.4500  0.0000  0.0000    0.0   0.00   \n",
       "2018-02-01  14675.11   855.28  247.33    8.7150  0.0000  0.0000    0.0   0.00   \n",
       "2018-03-01  14919.51   934.03  238.77    9.3040  0.0000  0.0000    0.0   0.00   \n",
       "2018-04-01  15059.54   940.00  233.00    9.1430  0.0000  0.0000    0.0   0.00   \n",
       "2018-05-01  16960.39   959.30  240.54   14.8908  0.0000  0.0000    0.0   0.00   \n",
       "...              ...      ...     ...       ...     ...     ...    ...    ...   \n",
       "2022-05-27  28629.80  1727.27   61.60  301.6000  0.3819  0.4566   92.4  41.17   \n",
       "2022-05-28  29031.33  1792.22   63.00  307.5000  0.3863  0.4646   95.5  44.25   \n",
       "2022-05-29  29468.10  1813.64   63.60  305.8000  0.3891  0.4820   95.5  44.98   \n",
       "2022-05-30  31734.22  1998.78   69.10  321.8000  0.4187  0.5698  117.4  47.22   \n",
       "2022-05-31  31801.04  1941.90   68.40  320.9000  0.4217  0.6268  112.9  45.77   \n",
       "\n",
       "               DOGE      TRX      NEO  MATIC    DOT      SHIB   NEAR   UNI  \n",
       "date                                                                        \n",
       "2018-01-01  0.00000  0.00000   78.299  0.000   0.00  0.000000  0.000  0.00  \n",
       "2018-02-01  0.00000  0.00000   89.696  0.000   0.00  0.000000  0.000  0.00  \n",
       "2018-03-01  0.00000  0.00000  103.505  0.000   0.00  0.000000  0.000  0.00  \n",
       "2018-04-01  0.00000  0.00000   97.669  0.000   0.00  0.000000  0.000  0.00  \n",
       "2018-05-01  0.00000  0.00000   95.134  0.000   0.00  0.000000  0.000  0.00  \n",
       "...             ...      ...      ...    ...    ...       ...    ...   ...  \n",
       "2022-05-27  0.08160  0.08083   10.290  0.574   9.12  0.000010  4.806  4.69  \n",
       "2022-05-28  0.08180  0.08118   10.470  0.588   9.65  0.000011  4.998  4.98  \n",
       "2022-05-29  0.08270  0.08055   10.640  0.600   9.98  0.000011  5.182  4.95  \n",
       "2022-05-30  0.08800  0.08325   11.780  0.658  10.47  0.000012  5.760  5.66  \n",
       "2022-05-31  0.08591  0.08441   11.570  0.663  10.35  0.000012  5.957  5.70  \n",
       "\n",
       "[1612 rows x 16 columns]"
      ]
     },
     "execution_count": 2,
     "metadata": {},
     "output_type": "execute_result"
    }
   ],
   "source": [
    "# Reading the csv file\n",
    "\n",
    "crypto_hist = pd.read_csv('crypto_historicals.csv', index_col=[0])\n",
    "crypto_hist.index = pd.to_datetime(crypto_hist.index)\n",
    "crypto_hist"
   ]
  },
  {
   "cell_type": "code",
   "execution_count": 3,
   "id": "ffb89499",
   "metadata": {},
   "outputs": [
    {
     "data": {
      "text/html": [
       "<div>\n",
       "<style scoped>\n",
       "    .dataframe tbody tr th:only-of-type {\n",
       "        vertical-align: middle;\n",
       "    }\n",
       "\n",
       "    .dataframe tbody tr th {\n",
       "        vertical-align: top;\n",
       "    }\n",
       "\n",
       "    .dataframe thead th {\n",
       "        text-align: right;\n",
       "    }\n",
       "</style>\n",
       "<table border=\"1\" class=\"dataframe\">\n",
       "  <thead>\n",
       "    <tr style=\"text-align: right;\">\n",
       "      <th></th>\n",
       "      <th>ETH_sent</th>\n",
       "      <th>LINK_sent</th>\n",
       "      <th>DOGE_sent</th>\n",
       "      <th>ADA_sent</th>\n",
       "    </tr>\n",
       "    <tr>\n",
       "      <th>Date</th>\n",
       "      <th></th>\n",
       "      <th></th>\n",
       "      <th></th>\n",
       "      <th></th>\n",
       "    </tr>\n",
       "  </thead>\n",
       "  <tbody>\n",
       "    <tr>\n",
       "      <th>2020-08-01</th>\n",
       "      <td>-0.111033</td>\n",
       "      <td>-0.060965</td>\n",
       "      <td>-0.141594</td>\n",
       "      <td>-0.037618</td>\n",
       "    </tr>\n",
       "    <tr>\n",
       "      <th>2020-08-02</th>\n",
       "      <td>-0.000000</td>\n",
       "      <td>-0.000000</td>\n",
       "      <td>-0.000000</td>\n",
       "      <td>-0.000000</td>\n",
       "    </tr>\n",
       "    <tr>\n",
       "      <th>2020-08-03</th>\n",
       "      <td>0.035660</td>\n",
       "      <td>0.043631</td>\n",
       "      <td>0.015076</td>\n",
       "      <td>0.026196</td>\n",
       "    </tr>\n",
       "    <tr>\n",
       "      <th>2020-08-04</th>\n",
       "      <td>0.000000</td>\n",
       "      <td>-0.000000</td>\n",
       "      <td>0.000000</td>\n",
       "      <td>0.000000</td>\n",
       "    </tr>\n",
       "    <tr>\n",
       "      <th>2020-08-05</th>\n",
       "      <td>0.000000</td>\n",
       "      <td>0.000000</td>\n",
       "      <td>-0.000000</td>\n",
       "      <td>-0.000000</td>\n",
       "    </tr>\n",
       "    <tr>\n",
       "      <th>...</th>\n",
       "      <td>...</td>\n",
       "      <td>...</td>\n",
       "      <td>...</td>\n",
       "      <td>...</td>\n",
       "    </tr>\n",
       "    <tr>\n",
       "      <th>2022-05-27</th>\n",
       "      <td>-0.036919</td>\n",
       "      <td>-0.025975</td>\n",
       "      <td>0.046403</td>\n",
       "      <td>-0.047684</td>\n",
       "    </tr>\n",
       "    <tr>\n",
       "      <th>2022-05-28</th>\n",
       "      <td>0.000000</td>\n",
       "      <td>0.000000</td>\n",
       "      <td>0.000000</td>\n",
       "      <td>0.000000</td>\n",
       "    </tr>\n",
       "    <tr>\n",
       "      <th>2022-05-29</th>\n",
       "      <td>0.011881</td>\n",
       "      <td>0.035728</td>\n",
       "      <td>0.010942</td>\n",
       "      <td>0.036767</td>\n",
       "    </tr>\n",
       "    <tr>\n",
       "      <th>2022-05-30</th>\n",
       "      <td>-0.097201</td>\n",
       "      <td>-0.061260</td>\n",
       "      <td>-0.062117</td>\n",
       "      <td>-0.167341</td>\n",
       "    </tr>\n",
       "    <tr>\n",
       "      <th>2022-05-31</th>\n",
       "      <td>-0.000000</td>\n",
       "      <td>0.000000</td>\n",
       "      <td>-0.000000</td>\n",
       "      <td>0.000000</td>\n",
       "    </tr>\n",
       "  </tbody>\n",
       "</table>\n",
       "<p>669 rows × 4 columns</p>\n",
       "</div>"
      ],
      "text/plain": [
       "            ETH_sent  LINK_sent  DOGE_sent  ADA_sent\n",
       "Date                                                \n",
       "2020-08-01 -0.111033  -0.060965  -0.141594 -0.037618\n",
       "2020-08-02 -0.000000  -0.000000  -0.000000 -0.000000\n",
       "2020-08-03  0.035660   0.043631   0.015076  0.026196\n",
       "2020-08-04  0.000000  -0.000000   0.000000  0.000000\n",
       "2020-08-05  0.000000   0.000000  -0.000000 -0.000000\n",
       "...              ...        ...        ...       ...\n",
       "2022-05-27 -0.036919  -0.025975   0.046403 -0.047684\n",
       "2022-05-28  0.000000   0.000000   0.000000  0.000000\n",
       "2022-05-29  0.011881   0.035728   0.010942  0.036767\n",
       "2022-05-30 -0.097201  -0.061260  -0.062117 -0.167341\n",
       "2022-05-31 -0.000000   0.000000  -0.000000  0.000000\n",
       "\n",
       "[669 rows x 4 columns]"
      ]
     },
     "execution_count": 3,
     "metadata": {},
     "output_type": "execute_result"
    }
   ],
   "source": [
    "# Nicole's Strat\n",
    "\n",
    "sentiment_strategy = pd.read_csv(\"OLS_Strategy_Returns.csv\", index_col=\"Date\")\n",
    "sentiment_strategy.index = pd.to_datetime(sentiment_strategy.index, format='%d/%m/%y')\n",
    "sentiment_strategy.columns = [\"ETH_sent\",\"LINK_sent\",\"DOGE_sent\",\"ADA_sent\"]\n",
    "\n",
    "sentiment_strategy = sentiment_strategy[\"2020-08-01\":]\n",
    "sentiment_strategy"
   ]
  },
  {
   "cell_type": "code",
   "execution_count": 4,
   "id": "9f1e6044",
   "metadata": {},
   "outputs": [
    {
     "data": {
      "text/html": [
       "<div>\n",
       "<style scoped>\n",
       "    .dataframe tbody tr th:only-of-type {\n",
       "        vertical-align: middle;\n",
       "    }\n",
       "\n",
       "    .dataframe tbody tr th {\n",
       "        vertical-align: top;\n",
       "    }\n",
       "\n",
       "    .dataframe thead th {\n",
       "        text-align: right;\n",
       "    }\n",
       "</style>\n",
       "<table border=\"1\" class=\"dataframe\">\n",
       "  <thead>\n",
       "    <tr style=\"text-align: right;\">\n",
       "      <th></th>\n",
       "      <th>BTC_carry</th>\n",
       "      <th>ETH_carry</th>\n",
       "    </tr>\n",
       "    <tr>\n",
       "      <th>Date</th>\n",
       "      <th></th>\n",
       "      <th></th>\n",
       "    </tr>\n",
       "  </thead>\n",
       "  <tbody>\n",
       "    <tr>\n",
       "      <th>2020-08-01</th>\n",
       "      <td>0.000443</td>\n",
       "      <td>0.000415</td>\n",
       "    </tr>\n",
       "    <tr>\n",
       "      <th>2020-08-02</th>\n",
       "      <td>0.000373</td>\n",
       "      <td>0.000375</td>\n",
       "    </tr>\n",
       "    <tr>\n",
       "      <th>2020-08-03</th>\n",
       "      <td>0.000342</td>\n",
       "      <td>0.000339</td>\n",
       "    </tr>\n",
       "    <tr>\n",
       "      <th>2020-08-04</th>\n",
       "      <td>0.000351</td>\n",
       "      <td>0.000357</td>\n",
       "    </tr>\n",
       "    <tr>\n",
       "      <th>2020-08-05</th>\n",
       "      <td>0.000377</td>\n",
       "      <td>0.000394</td>\n",
       "    </tr>\n",
       "    <tr>\n",
       "      <th>...</th>\n",
       "      <td>...</td>\n",
       "      <td>...</td>\n",
       "    </tr>\n",
       "    <tr>\n",
       "      <th>2022-05-27</th>\n",
       "      <td>0.000069</td>\n",
       "      <td>0.000076</td>\n",
       "    </tr>\n",
       "    <tr>\n",
       "      <th>2022-05-28</th>\n",
       "      <td>0.000077</td>\n",
       "      <td>0.000083</td>\n",
       "    </tr>\n",
       "    <tr>\n",
       "      <th>2022-05-29</th>\n",
       "      <td>0.000081</td>\n",
       "      <td>0.000082</td>\n",
       "    </tr>\n",
       "    <tr>\n",
       "      <th>2022-05-30</th>\n",
       "      <td>0.000075</td>\n",
       "      <td>0.000083</td>\n",
       "    </tr>\n",
       "    <tr>\n",
       "      <th>2022-05-31</th>\n",
       "      <td>0.000097</td>\n",
       "      <td>0.000098</td>\n",
       "    </tr>\n",
       "  </tbody>\n",
       "</table>\n",
       "<p>669 rows × 2 columns</p>\n",
       "</div>"
      ],
      "text/plain": [
       "            BTC_carry  ETH_carry\n",
       "Date                            \n",
       "2020-08-01   0.000443   0.000415\n",
       "2020-08-02   0.000373   0.000375\n",
       "2020-08-03   0.000342   0.000339\n",
       "2020-08-04   0.000351   0.000357\n",
       "2020-08-05   0.000377   0.000394\n",
       "...               ...        ...\n",
       "2022-05-27   0.000069   0.000076\n",
       "2022-05-28   0.000077   0.000083\n",
       "2022-05-29   0.000081   0.000082\n",
       "2022-05-30   0.000075   0.000083\n",
       "2022-05-31   0.000097   0.000098\n",
       "\n",
       "[669 rows x 2 columns]"
      ]
     },
     "execution_count": 4,
     "metadata": {},
     "output_type": "execute_result"
    }
   ],
   "source": [
    "# Brandon Strat\n",
    "\n",
    "carry_strategy = pd.read_excel(\"futures-annualized-rolling-basis-trade-3m-24h.xlsx\", \n",
    "                               sheet_name=\"Sheet1\")\n",
    "carry_strategy.columns = [\"Date\",\"BTC_carry\",\"ETH_carry\"]\n",
    "carry_strategy.Date = carry_strategy['Date'].apply(lambda x: x[:-10])\n",
    "carry_strategy = carry_strategy.set_index(\"Date\")\n",
    "carry_strategy.index = pd.to_datetime(carry_strategy.index, format='%Y-%m-%d')\n",
    "\n",
    "carry_strategy = carry_strategy[\"2020-08-01\":\"2022-05-31\"]\n",
    "carry_strategy['BTC_carry'] = np.log(1 + carry_strategy[\"BTC_carry\"]) #converting simple to log returns\n",
    "\n",
    "carry_strategy"
   ]
  },
  {
   "cell_type": "code",
   "execution_count": 5,
   "id": "7e84cae5",
   "metadata": {},
   "outputs": [
    {
     "data": {
      "text/html": [
       "<div>\n",
       "<style scoped>\n",
       "    .dataframe tbody tr th:only-of-type {\n",
       "        vertical-align: middle;\n",
       "    }\n",
       "\n",
       "    .dataframe tbody tr th {\n",
       "        vertical-align: top;\n",
       "    }\n",
       "\n",
       "    .dataframe thead th {\n",
       "        text-align: right;\n",
       "    }\n",
       "</style>\n",
       "<table border=\"1\" class=\"dataframe\">\n",
       "  <thead>\n",
       "    <tr style=\"text-align: right;\">\n",
       "      <th></th>\n",
       "      <th>ETH_sent</th>\n",
       "      <th>LINK_sent</th>\n",
       "      <th>DOGE_sent</th>\n",
       "      <th>ADA_sent</th>\n",
       "      <th>BTC_carry</th>\n",
       "      <th>ETH_carry</th>\n",
       "    </tr>\n",
       "    <tr>\n",
       "      <th>Date</th>\n",
       "      <th></th>\n",
       "      <th></th>\n",
       "      <th></th>\n",
       "      <th></th>\n",
       "      <th></th>\n",
       "      <th></th>\n",
       "    </tr>\n",
       "  </thead>\n",
       "  <tbody>\n",
       "    <tr>\n",
       "      <th>2020-08-01</th>\n",
       "      <td>-0.111033</td>\n",
       "      <td>-0.060965</td>\n",
       "      <td>-0.141594</td>\n",
       "      <td>-0.037618</td>\n",
       "      <td>0.000443</td>\n",
       "      <td>0.000415</td>\n",
       "    </tr>\n",
       "    <tr>\n",
       "      <th>2020-08-02</th>\n",
       "      <td>-0.000000</td>\n",
       "      <td>-0.000000</td>\n",
       "      <td>-0.000000</td>\n",
       "      <td>-0.000000</td>\n",
       "      <td>0.000373</td>\n",
       "      <td>0.000375</td>\n",
       "    </tr>\n",
       "    <tr>\n",
       "      <th>2020-08-03</th>\n",
       "      <td>0.035660</td>\n",
       "      <td>0.043631</td>\n",
       "      <td>0.015076</td>\n",
       "      <td>0.026196</td>\n",
       "      <td>0.000342</td>\n",
       "      <td>0.000339</td>\n",
       "    </tr>\n",
       "    <tr>\n",
       "      <th>2020-08-04</th>\n",
       "      <td>0.000000</td>\n",
       "      <td>-0.000000</td>\n",
       "      <td>0.000000</td>\n",
       "      <td>0.000000</td>\n",
       "      <td>0.000351</td>\n",
       "      <td>0.000357</td>\n",
       "    </tr>\n",
       "    <tr>\n",
       "      <th>2020-08-05</th>\n",
       "      <td>0.000000</td>\n",
       "      <td>0.000000</td>\n",
       "      <td>-0.000000</td>\n",
       "      <td>-0.000000</td>\n",
       "      <td>0.000377</td>\n",
       "      <td>0.000394</td>\n",
       "    </tr>\n",
       "    <tr>\n",
       "      <th>...</th>\n",
       "      <td>...</td>\n",
       "      <td>...</td>\n",
       "      <td>...</td>\n",
       "      <td>...</td>\n",
       "      <td>...</td>\n",
       "      <td>...</td>\n",
       "    </tr>\n",
       "    <tr>\n",
       "      <th>2022-05-27</th>\n",
       "      <td>-0.036919</td>\n",
       "      <td>-0.025975</td>\n",
       "      <td>0.046403</td>\n",
       "      <td>-0.047684</td>\n",
       "      <td>0.000069</td>\n",
       "      <td>0.000076</td>\n",
       "    </tr>\n",
       "    <tr>\n",
       "      <th>2022-05-28</th>\n",
       "      <td>0.000000</td>\n",
       "      <td>0.000000</td>\n",
       "      <td>0.000000</td>\n",
       "      <td>0.000000</td>\n",
       "      <td>0.000077</td>\n",
       "      <td>0.000083</td>\n",
       "    </tr>\n",
       "    <tr>\n",
       "      <th>2022-05-29</th>\n",
       "      <td>0.011881</td>\n",
       "      <td>0.035728</td>\n",
       "      <td>0.010942</td>\n",
       "      <td>0.036767</td>\n",
       "      <td>0.000081</td>\n",
       "      <td>0.000082</td>\n",
       "    </tr>\n",
       "    <tr>\n",
       "      <th>2022-05-30</th>\n",
       "      <td>-0.097201</td>\n",
       "      <td>-0.061260</td>\n",
       "      <td>-0.062117</td>\n",
       "      <td>-0.167341</td>\n",
       "      <td>0.000075</td>\n",
       "      <td>0.000083</td>\n",
       "    </tr>\n",
       "    <tr>\n",
       "      <th>2022-05-31</th>\n",
       "      <td>-0.000000</td>\n",
       "      <td>0.000000</td>\n",
       "      <td>-0.000000</td>\n",
       "      <td>0.000000</td>\n",
       "      <td>0.000097</td>\n",
       "      <td>0.000098</td>\n",
       "    </tr>\n",
       "  </tbody>\n",
       "</table>\n",
       "<p>669 rows × 6 columns</p>\n",
       "</div>"
      ],
      "text/plain": [
       "            ETH_sent  LINK_sent  DOGE_sent  ADA_sent  BTC_carry  ETH_carry\n",
       "Date                                                                      \n",
       "2020-08-01 -0.111033  -0.060965  -0.141594 -0.037618   0.000443   0.000415\n",
       "2020-08-02 -0.000000  -0.000000  -0.000000 -0.000000   0.000373   0.000375\n",
       "2020-08-03  0.035660   0.043631   0.015076  0.026196   0.000342   0.000339\n",
       "2020-08-04  0.000000  -0.000000   0.000000  0.000000   0.000351   0.000357\n",
       "2020-08-05  0.000000   0.000000  -0.000000 -0.000000   0.000377   0.000394\n",
       "...              ...        ...        ...       ...        ...        ...\n",
       "2022-05-27 -0.036919  -0.025975   0.046403 -0.047684   0.000069   0.000076\n",
       "2022-05-28  0.000000   0.000000   0.000000  0.000000   0.000077   0.000083\n",
       "2022-05-29  0.011881   0.035728   0.010942  0.036767   0.000081   0.000082\n",
       "2022-05-30 -0.097201  -0.061260  -0.062117 -0.167341   0.000075   0.000083\n",
       "2022-05-31 -0.000000   0.000000  -0.000000  0.000000   0.000097   0.000098\n",
       "\n",
       "[669 rows x 6 columns]"
      ]
     },
     "execution_count": 5,
     "metadata": {},
     "output_type": "execute_result"
    }
   ],
   "source": [
    "strategy_returns = sentiment_strategy.join(carry_strategy)\n",
    "strategy_returns"
   ]
  },
  {
   "cell_type": "markdown",
   "id": "5746a78d",
   "metadata": {},
   "source": [
    "\n",
    "## Calculating the covariance matrix\n"
   ]
  },
  {
   "cell_type": "markdown",
   "id": "31f2911e",
   "metadata": {},
   "source": [
    "It is called shrinkage because it can be thought of as “shrinking” the sample covariance matrix towards the other estimator, which is accordingly called the shrinkage target. The shrinkage target may be significantly biased but has little estimation error as compared to sample covariance.\n",
    "\n",
    "Hence, the sample covariance matrix should not be your default choice. I think a better option is Ledoit-Wolf shrinkage, which reduces the extreme values in the covariance matrix.\n",
    "\n",
    "The constant variance (default) is the shrinkage target , i.e the target is the diagonal matrix with the mean of asset variances on the diagonals and zeroes elsewhere."
   ]
  },
  {
   "cell_type": "code",
   "execution_count": 6,
   "id": "1a8504d5",
   "metadata": {},
   "outputs": [
    {
     "data": {
      "text/html": [
       "<div>\n",
       "<style scoped>\n",
       "    .dataframe tbody tr th:only-of-type {\n",
       "        vertical-align: middle;\n",
       "    }\n",
       "\n",
       "    .dataframe tbody tr th {\n",
       "        vertical-align: top;\n",
       "    }\n",
       "\n",
       "    .dataframe thead th {\n",
       "        text-align: right;\n",
       "    }\n",
       "</style>\n",
       "<table border=\"1\" class=\"dataframe\">\n",
       "  <thead>\n",
       "    <tr style=\"text-align: right;\">\n",
       "      <th></th>\n",
       "      <th>ETH_sent</th>\n",
       "      <th>LINK_sent</th>\n",
       "      <th>DOGE_sent</th>\n",
       "      <th>ADA_sent</th>\n",
       "      <th>BTC_carry</th>\n",
       "      <th>ETH_carry</th>\n",
       "    </tr>\n",
       "  </thead>\n",
       "  <tbody>\n",
       "    <tr>\n",
       "      <th>ETH_sent</th>\n",
       "      <td>0.638835</td>\n",
       "      <td>0.563845</td>\n",
       "      <td>0.436493</td>\n",
       "      <td>0.526637</td>\n",
       "      <td>-0.000027</td>\n",
       "      <td>-0.000031</td>\n",
       "    </tr>\n",
       "    <tr>\n",
       "      <th>LINK_sent</th>\n",
       "      <td>0.563845</td>\n",
       "      <td>0.954248</td>\n",
       "      <td>0.659230</td>\n",
       "      <td>0.601089</td>\n",
       "      <td>0.000114</td>\n",
       "      <td>0.000135</td>\n",
       "    </tr>\n",
       "    <tr>\n",
       "      <th>DOGE_sent</th>\n",
       "      <td>0.436493</td>\n",
       "      <td>0.659230</td>\n",
       "      <td>1.904150</td>\n",
       "      <td>0.505839</td>\n",
       "      <td>0.000406</td>\n",
       "      <td>0.000507</td>\n",
       "    </tr>\n",
       "    <tr>\n",
       "      <th>ADA_sent</th>\n",
       "      <td>0.526637</td>\n",
       "      <td>0.601089</td>\n",
       "      <td>0.505839</td>\n",
       "      <td>0.999134</td>\n",
       "      <td>0.000147</td>\n",
       "      <td>0.000186</td>\n",
       "    </tr>\n",
       "    <tr>\n",
       "      <th>BTC_carry</th>\n",
       "      <td>-0.000027</td>\n",
       "      <td>0.000114</td>\n",
       "      <td>0.000406</td>\n",
       "      <td>0.000147</td>\n",
       "      <td>0.038733</td>\n",
       "      <td>0.000016</td>\n",
       "    </tr>\n",
       "    <tr>\n",
       "      <th>ETH_carry</th>\n",
       "      <td>-0.000031</td>\n",
       "      <td>0.000135</td>\n",
       "      <td>0.000507</td>\n",
       "      <td>0.000186</td>\n",
       "      <td>0.000016</td>\n",
       "      <td>0.038736</td>\n",
       "    </tr>\n",
       "  </tbody>\n",
       "</table>\n",
       "</div>"
      ],
      "text/plain": [
       "           ETH_sent  LINK_sent  DOGE_sent  ADA_sent  BTC_carry  ETH_carry\n",
       "ETH_sent   0.638835   0.563845   0.436493  0.526637  -0.000027  -0.000031\n",
       "LINK_sent  0.563845   0.954248   0.659230  0.601089   0.000114   0.000135\n",
       "DOGE_sent  0.436493   0.659230   1.904150  0.505839   0.000406   0.000507\n",
       "ADA_sent   0.526637   0.601089   0.505839  0.999134   0.000147   0.000186\n",
       "BTC_carry -0.000027   0.000114   0.000406  0.000147   0.038733   0.000016\n",
       "ETH_carry -0.000031   0.000135   0.000507  0.000186   0.000016   0.038736"
      ]
     },
     "execution_count": 6,
     "metadata": {},
     "output_type": "execute_result"
    }
   ],
   "source": [
    "from pypfopt import risk_models\n",
    "from pypfopt import plotting\n",
    "\n",
    "sample_cov = risk_models.CovarianceShrinkage(strategy_returns, \n",
    "                                             returns_data=True, \n",
    "                                             frequency=365, \n",
    "                                             log_returns=True).ledoit_wolf()\n",
    "sample_cov"
   ]
  },
  {
   "cell_type": "code",
   "execution_count": 7,
   "id": "419e157b",
   "metadata": {},
   "outputs": [
    {
     "data": {
      "text/plain": [
       "<AxesSubplot:>"
      ]
     },
     "execution_count": 7,
     "metadata": {},
     "output_type": "execute_result"
    },
    {
     "data": {
      "image/png": "[encoded data removed]",
      "text/plain": [
       "<Figure size 432x288 with 2 Axes>"
      ]
     },
     "metadata": {
      "needs_background": "light"
     },
     "output_type": "display_data"
    }
   ],
   "source": [
    "# Plotting the covariance matrix\n",
    "\n",
    "plotting.plot_covariance(sample_cov, plot_correlation=True)"
   ]
  },
  {
   "cell_type": "markdown",
   "id": "2c1e0339",
   "metadata": {},
   "source": [
    "\n",
    "## Return estimation"
   ]
  },
  {
   "cell_type": "code",
   "execution_count": 8,
   "id": "fccf75c5",
   "metadata": {},
   "outputs": [
    {
     "data": {
      "text/html": [
       "<div>\n",
       "<style scoped>\n",
       "    .dataframe tbody tr th:only-of-type {\n",
       "        vertical-align: middle;\n",
       "    }\n",
       "\n",
       "    .dataframe tbody tr th {\n",
       "        vertical-align: top;\n",
       "    }\n",
       "\n",
       "    .dataframe thead th {\n",
       "        text-align: right;\n",
       "    }\n",
       "</style>\n",
       "<table border=\"1\" class=\"dataframe\">\n",
       "  <thead>\n",
       "    <tr style=\"text-align: right;\">\n",
       "      <th></th>\n",
       "      <th>BTC</th>\n",
       "      <th>ETH</th>\n",
       "      <th>LTC</th>\n",
       "      <th>BNB</th>\n",
       "      <th>XRP</th>\n",
       "      <th>ADA</th>\n",
       "      <th>AAVE</th>\n",
       "      <th>SOL</th>\n",
       "      <th>DOGE</th>\n",
       "      <th>TRX</th>\n",
       "      <th>NEO</th>\n",
       "      <th>MATIC</th>\n",
       "      <th>DOT</th>\n",
       "      <th>SHIB</th>\n",
       "      <th>NEAR</th>\n",
       "      <th>UNI</th>\n",
       "    </tr>\n",
       "    <tr>\n",
       "      <th>date</th>\n",
       "      <th></th>\n",
       "      <th></th>\n",
       "      <th></th>\n",
       "      <th></th>\n",
       "      <th></th>\n",
       "      <th></th>\n",
       "      <th></th>\n",
       "      <th></th>\n",
       "      <th></th>\n",
       "      <th></th>\n",
       "      <th></th>\n",
       "      <th></th>\n",
       "      <th></th>\n",
       "      <th></th>\n",
       "      <th></th>\n",
       "      <th></th>\n",
       "    </tr>\n",
       "  </thead>\n",
       "  <tbody>\n",
       "    <tr>\n",
       "      <th>2022-05-27</th>\n",
       "      <td>-0.019573</td>\n",
       "      <td>-0.036245</td>\n",
       "      <td>-0.029921</td>\n",
       "      <td>-0.004620</td>\n",
       "      <td>-0.025765</td>\n",
       "      <td>-0.046565</td>\n",
       "      <td>-0.085149</td>\n",
       "      <td>-0.052256</td>\n",
       "      <td>0.047497</td>\n",
       "      <td>-0.017025</td>\n",
       "      <td>-0.039216</td>\n",
       "      <td>-0.040134</td>\n",
       "      <td>-0.002188</td>\n",
       "      <td>-0.010387</td>\n",
       "      <td>-0.081246</td>\n",
       "      <td>-0.052525</td>\n",
       "    </tr>\n",
       "    <tr>\n",
       "      <th>2022-05-28</th>\n",
       "      <td>0.014025</td>\n",
       "      <td>0.037603</td>\n",
       "      <td>0.022727</td>\n",
       "      <td>0.019562</td>\n",
       "      <td>0.011521</td>\n",
       "      <td>0.017521</td>\n",
       "      <td>0.033550</td>\n",
       "      <td>0.074812</td>\n",
       "      <td>0.002451</td>\n",
       "      <td>0.004330</td>\n",
       "      <td>0.017493</td>\n",
       "      <td>0.024390</td>\n",
       "      <td>0.058114</td>\n",
       "      <td>0.027672</td>\n",
       "      <td>0.039950</td>\n",
       "      <td>0.061834</td>\n",
       "    </tr>\n",
       "    <tr>\n",
       "      <th>2022-05-29</th>\n",
       "      <td>0.015045</td>\n",
       "      <td>0.011952</td>\n",
       "      <td>0.009524</td>\n",
       "      <td>-0.005528</td>\n",
       "      <td>0.007248</td>\n",
       "      <td>0.037452</td>\n",
       "      <td>0.000000</td>\n",
       "      <td>0.016497</td>\n",
       "      <td>0.011002</td>\n",
       "      <td>-0.007761</td>\n",
       "      <td>0.016237</td>\n",
       "      <td>0.020408</td>\n",
       "      <td>0.034197</td>\n",
       "      <td>0.066852</td>\n",
       "      <td>0.036815</td>\n",
       "      <td>-0.006024</td>\n",
       "    </tr>\n",
       "    <tr>\n",
       "      <th>2022-05-30</th>\n",
       "      <td>0.076901</td>\n",
       "      <td>0.102082</td>\n",
       "      <td>0.086478</td>\n",
       "      <td>0.052322</td>\n",
       "      <td>0.076073</td>\n",
       "      <td>0.182158</td>\n",
       "      <td>0.229319</td>\n",
       "      <td>0.049800</td>\n",
       "      <td>0.064087</td>\n",
       "      <td>0.033520</td>\n",
       "      <td>0.107143</td>\n",
       "      <td>0.096667</td>\n",
       "      <td>0.049098</td>\n",
       "      <td>0.059182</td>\n",
       "      <td>0.111540</td>\n",
       "      <td>0.143434</td>\n",
       "    </tr>\n",
       "    <tr>\n",
       "      <th>2022-05-31</th>\n",
       "      <td>0.002106</td>\n",
       "      <td>-0.028457</td>\n",
       "      <td>-0.010130</td>\n",
       "      <td>-0.002797</td>\n",
       "      <td>0.007165</td>\n",
       "      <td>0.100035</td>\n",
       "      <td>-0.038330</td>\n",
       "      <td>-0.030707</td>\n",
       "      <td>-0.023750</td>\n",
       "      <td>0.013934</td>\n",
       "      <td>-0.017827</td>\n",
       "      <td>0.007599</td>\n",
       "      <td>-0.011461</td>\n",
       "      <td>-0.036154</td>\n",
       "      <td>0.034201</td>\n",
       "      <td>0.007067</td>\n",
       "    </tr>\n",
       "  </tbody>\n",
       "</table>\n",
       "</div>"
      ],
      "text/plain": [
       "                 BTC       ETH       LTC       BNB       XRP       ADA  \\\n",
       "date                                                                     \n",
       "2022-05-27 -0.019573 -0.036245 -0.029921 -0.004620 -0.025765 -0.046565   \n",
       "2022-05-28  0.014025  0.037603  0.022727  0.019562  0.011521  0.017521   \n",
       "2022-05-29  0.015045  0.011952  0.009524 -0.005528  0.007248  0.037452   \n",
       "2022-05-30  0.076901  0.102082  0.086478  0.052322  0.076073  0.182158   \n",
       "2022-05-31  0.002106 -0.028457 -0.010130 -0.002797  0.007165  0.100035   \n",
       "\n",
       "                AAVE       SOL      DOGE       TRX       NEO     MATIC  \\\n",
       "date                                                                     \n",
       "2022-05-27 -0.085149 -0.052256  0.047497 -0.017025 -0.039216 -0.040134   \n",
       "2022-05-28  0.033550  0.074812  0.002451  0.004330  0.017493  0.024390   \n",
       "2022-05-29  0.000000  0.016497  0.011002 -0.007761  0.016237  0.020408   \n",
       "2022-05-30  0.229319  0.049800  0.064087  0.033520  0.107143  0.096667   \n",
       "2022-05-31 -0.038330 -0.030707 -0.023750  0.013934 -0.017827  0.007599   \n",
       "\n",
       "                 DOT      SHIB      NEAR       UNI  \n",
       "date                                                \n",
       "2022-05-27 -0.002188 -0.010387 -0.081246 -0.052525  \n",
       "2022-05-28  0.058114  0.027672  0.039950  0.061834  \n",
       "2022-05-29  0.034197  0.066852  0.036815 -0.006024  \n",
       "2022-05-30  0.049098  0.059182  0.111540  0.143434  \n",
       "2022-05-31 -0.011461 -0.036154  0.034201  0.007067  "
      ]
     },
     "execution_count": 8,
     "metadata": {},
     "output_type": "execute_result"
    }
   ],
   "source": [
    "from pypfopt import expected_returns\n",
    "\n",
    "rets = expected_returns.returns_from_prices(crypto_hist)\n",
    "rets.tail()"
   ]
  },
  {
   "cell_type": "markdown",
   "id": "e7b06108",
   "metadata": {},
   "source": [
    "### Exponential moving average used to generate mean returns\n",
    "\n",
    "The exponential moving average is a simple improvement over the mean historical return; it gives more credence to recent returns and thus aims to increase the relevance of the estimates. This is parameterised by the span parameter, which gives users the ability to decide exactly how much more weight is given to recent data. We use the default settings for span (i.e. 500-day EMA )"
   ]
  },
  {
   "cell_type": "code",
   "execution_count": 9,
   "id": "f19b32ab",
   "metadata": {},
   "outputs": [
    {
     "data": {
      "text/plain": [
       "'\\nmean_return = expected_returns.ema_historical_return(crypto_hist, frequency=365)\\nmean_return\\n'"
      ]
     },
     "execution_count": 9,
     "metadata": {},
     "output_type": "execute_result"
    }
   ],
   "source": [
    "\"\"\"\n",
    "mean_return = expected_returns.ema_historical_return(crypto_hist, frequency=365)\n",
    "mean_return\n",
    "\"\"\""
   ]
  },
  {
   "cell_type": "code",
   "execution_count": 10,
   "id": "5e70044c",
   "metadata": {},
   "outputs": [
    {
     "data": {
      "text/plain": [
       "ETH_sent     0.988964\n",
       "LINK_sent    1.501377\n",
       "DOGE_sent    2.883713\n",
       "ADA_sent     0.619412\n",
       "BTC_carry    0.086256\n",
       "ETH_carry    0.088842\n",
       "Name: 2022-05-31 00:00:00, dtype: float64"
      ]
     },
     "execution_count": 10,
     "metadata": {},
     "output_type": "execute_result"
    }
   ],
   "source": [
    "mean_return = expected_returns.ema_historical_return(strategy_returns, \n",
    "                                                      returns_data=True, \n",
    "                                                      frequency=365, \n",
    "                                                      log_returns= True)\n",
    "mean_return"
   ]
  },
  {
   "cell_type": "markdown",
   "id": "7d63fe4d",
   "metadata": {},
   "source": [
    "## Weights generated using mean-variance optimisation"
   ]
  },
  {
   "cell_type": "code",
   "execution_count": 11,
   "id": "27a63200",
   "metadata": {},
   "outputs": [
    {
     "data": {
      "text/plain": [
       "ETH_sent     0.02077\n",
       "LINK_sent    0.11222\n",
       "DOGE_sent    0.23258\n",
       "ADA_sent     0.00000\n",
       "BTC_carry    0.31142\n",
       "ETH_carry    0.32301\n",
       "Name: MVO_weights, dtype: float64"
      ]
     },
     "execution_count": 11,
     "metadata": {},
     "output_type": "execute_result"
    }
   ],
   "source": [
    "from pypfopt import EfficientFrontier\n",
    "\n",
    "ef = EfficientFrontier(mean_return, sample_cov)  # weight_bounds automatically set to (0, 1)\n",
    "\n",
    "ef.max_sharpe()\n",
    "mvo_weights = pd.Series(ef.clean_weights(), name='MVO_weights')\n",
    "\n",
    "mvo_weights"
   ]
  },
  {
   "cell_type": "code",
   "execution_count": 12,
   "id": "d34584ac",
   "metadata": {},
   "outputs": [
    {
     "data": {
      "text/plain": [
       "<AxesSubplot:ylabel='MVO_weights'>"
      ]
     },
     "execution_count": 12,
     "metadata": {},
     "output_type": "execute_result"
    },
    {
     "data": {
      "image/png": "[encoded data removed]",
      "text/plain": [
       "<Figure size 720x720 with 1 Axes>"
      ]
     },
     "metadata": {},
     "output_type": "display_data"
    }
   ],
   "source": [
    "pd.Series(mvo_weights).plot.pie(figsize=(10, 10))"
   ]
  },
  {
   "cell_type": "code",
   "execution_count": 13,
   "id": "91274df4",
   "metadata": {},
   "outputs": [
    {
     "name": "stdout",
     "output_type": "stream",
     "text": [
      "Expected annual return: 91.5%\n",
      "Annual volatility: 40.6%\n",
      "Sharpe Ratio: 2.21\n"
     ]
    },
    {
     "data": {
      "text/plain": [
       "(0.9152727003889674, 0.40559038872443764, 2.2073321392169993)"
      ]
     },
     "execution_count": 13,
     "metadata": {},
     "output_type": "execute_result"
    }
   ],
   "source": [
    "ef.portfolio_performance(verbose=True)"
   ]
  },
  {
   "cell_type": "markdown",
   "id": "9c054526",
   "metadata": {},
   "source": [
    "# <u> Hierachical-Risk Parity"
   ]
  },
  {
   "cell_type": "markdown",
   "id": "98968934",
   "metadata": {},
   "source": [
    "Hierarchical Risk Parity is a novel portfolio optimization method developed by Marcos Lopez de Prado. Though a detailed explanation can be found in the linked paper, here is a rough overview of how HRP works:\n",
    "\n",
    "1. From a universe of assets, form a distance matrix based on the correlation of the assets.<br>\n",
    "2. Using this distance matrix, cluster the assets into a tree via hierarchical clustering<br>\n",
    "3. Within each branch of the tree, form the minimum variance portfolio (normally between just two assets).<br>\n",
    "4. Iterate over each level, optimally combining the mini-portfolios at each node.\n",
    "\n",
    "The advantages of this are that it does not require the inversion of the covariance matrix as with traditional mean-variance optimization, and seems to produce diverse portfolios that perform well out of sample."
   ]
  },
  {
   "cell_type": "markdown",
   "id": "d965bae7",
   "metadata": {},
   "source": [
    "## Weights generated using hierachical risk parity"
   ]
  },
  {
   "cell_type": "code",
   "execution_count": 14,
   "id": "ab4b64f7",
   "metadata": {},
   "outputs": [
    {
     "data": {
      "text/plain": [
       "ETH_sent     0.00000\n",
       "LINK_sent    0.00000\n",
       "DOGE_sent    0.00000\n",
       "ADA_sent     0.00000\n",
       "BTC_carry    0.54843\n",
       "ETH_carry    0.45153\n",
       "Name: HRP_weights, dtype: float64"
      ]
     },
     "execution_count": 14,
     "metadata": {},
     "output_type": "execute_result"
    }
   ],
   "source": [
    "from pypfopt import HRPOpt\n",
    "\n",
    "hrp = HRPOpt(returns=strategy_returns, cov_matrix=sample_cov)\n",
    "hrp.optimize()\n",
    "hrp_weights = pd.Series(hrp.clean_weights(), name='HRP_weights')\n",
    "hrp_weights"
   ]
  },
  {
   "cell_type": "code",
   "execution_count": 15,
   "id": "7c16fdd2",
   "metadata": {},
   "outputs": [
    {
     "data": {
      "text/plain": [
       "<AxesSubplot:ylabel='HRP_weights'>"
      ]
     },
     "execution_count": 15,
     "metadata": {},
     "output_type": "execute_result"
    },
    {
     "data": {
      "image/png": "[encoded data removed]",
      "text/plain": [
       "<Figure size 720x720 with 1 Axes>"
      ]
     },
     "metadata": {},
     "output_type": "display_data"
    }
   ],
   "source": [
    "pd.Series(hrp_weights).plot.pie(figsize=(10, 10))"
   ]
  },
  {
   "cell_type": "code",
   "execution_count": 16,
   "id": "842efd73",
   "metadata": {},
   "outputs": [
    {
     "name": "stdout",
     "output_type": "stream",
     "text": [
      "Expected annual return: 7.7%\n",
      "Annual volatility: 0.3%\n",
      "Sharpe Ratio: 16.51\n"
     ]
    },
    {
     "data": {
      "text/plain": [
       "(0.07720320489185965, 0.003465755087657838, 16.505264637876547)"
      ]
     },
     "execution_count": 16,
     "metadata": {},
     "output_type": "execute_result"
    }
   ],
   "source": [
    "hrp.portfolio_performance(verbose=True)"
   ]
  },
  {
   "cell_type": "code",
   "execution_count": 17,
   "id": "5294faf1",
   "metadata": {},
   "outputs": [
    {
     "data": {
      "text/plain": [
       "<AxesSubplot:>"
      ]
     },
     "execution_count": 17,
     "metadata": {},
     "output_type": "execute_result"
    },
    {
     "data": {
      "image/png": "[encoded data removed]",
      "text/plain": [
       "<Figure size 432x288 with 1 Axes>"
      ]
     },
     "metadata": {
      "needs_background": "light"
     },
     "output_type": "display_data"
    }
   ],
   "source": [
    "from pypfopt import plotting\n",
    "\n",
    "plotting.plot_dendrogram(hrp)"
   ]
  },
  {
   "cell_type": "markdown",
   "id": "9104a102",
   "metadata": {},
   "source": [
    "# <u> The Critical Line Algorithm"
   ]
  },
  {
   "cell_type": "markdown",
   "id": "91a6bbd8",
   "metadata": {},
   "source": [
    "This is a robust alternative to the quadratic solver used to find mean-variance optimal portfolios, that is especially advantageous when we apply linear inequalities. Unlike generic convex optimization routines, the CLA is specially designed for portfolio optimization."
   ]
  },
  {
   "cell_type": "markdown",
   "id": "a28d418f",
   "metadata": {},
   "source": [
    "## Weights generated using critical line algorithm"
   ]
  },
  {
   "cell_type": "code",
   "execution_count": 18,
   "id": "e848e542",
   "metadata": {},
   "outputs": [],
   "source": [
    "from pypfopt import CLA"
   ]
  },
  {
   "cell_type": "code",
   "execution_count": 19,
   "id": "e5f87ee5",
   "metadata": {},
   "outputs": [
    {
     "data": {
      "text/plain": [
       "ETH_sent     0.02146\n",
       "LINK_sent    0.09430\n",
       "DOGE_sent    0.19500\n",
       "ADA_sent     0.00000\n",
       "BTC_carry    0.33978\n",
       "ETH_carry    0.34946\n",
       "Name: CLA_weights, dtype: float64"
      ]
     },
     "execution_count": 19,
     "metadata": {},
     "output_type": "execute_result"
    }
   ],
   "source": [
    "cla = CLA(expected_returns=mean_return, cov_matrix=sample_cov)\n",
    "cla.max_sharpe()\n",
    "\n",
    "cla_weights = pd.Series(cla.clean_weights(), name='CLA_weights')\n",
    "\n",
    "cla_weights"
   ]
  },
  {
   "cell_type": "code",
   "execution_count": 20,
   "id": "5299908e",
   "metadata": {},
   "outputs": [
    {
     "data": {
      "text/plain": [
       "<AxesSubplot:ylabel='CLA_weights'>"
      ]
     },
     "execution_count": 20,
     "metadata": {},
     "output_type": "execute_result"
    },
    {
     "data": {
      "image/png": "[encoded data removed]",
      "text/plain": [
       "<Figure size 720x720 with 1 Axes>"
      ]
     },
     "metadata": {},
     "output_type": "display_data"
    }
   ],
   "source": [
    "pd.Series(cla_weights).plot.pie(figsize=(10, 10))"
   ]
  },
  {
   "cell_type": "code",
   "execution_count": 21,
   "id": "ab38ce68",
   "metadata": {},
   "outputs": [
    {
     "name": "stdout",
     "output_type": "stream",
     "text": [
      "Expected annual return: 78.5%\n",
      "Annual volatility: 34.7%\n",
      "Sharpe Ratio: 2.20\n"
     ]
    },
    {
     "data": {
      "text/plain": [
       "(0.7854915787458328, 0.34743671092205997, 2.2032547358461336)"
      ]
     },
     "execution_count": 21,
     "metadata": {},
     "output_type": "execute_result"
    }
   ],
   "source": [
    "cla.portfolio_performance(verbose=True)"
   ]
  },
  {
   "cell_type": "markdown",
   "id": "bcea6904",
   "metadata": {},
   "source": [
    "# <u> Combining the weights together"
   ]
  },
  {
   "cell_type": "code",
   "execution_count": 22,
   "id": "32ff0931",
   "metadata": {},
   "outputs": [],
   "source": [
    "weights = pd.concat([mvo_weights,hrp_weights,cla_weights], axis=1)"
   ]
  },
  {
   "cell_type": "code",
   "execution_count": 23,
   "id": "a358c828",
   "metadata": {},
   "outputs": [
    {
     "data": {
      "text/html": [
       "<div>\n",
       "<style scoped>\n",
       "    .dataframe tbody tr th:only-of-type {\n",
       "        vertical-align: middle;\n",
       "    }\n",
       "\n",
       "    .dataframe tbody tr th {\n",
       "        vertical-align: top;\n",
       "    }\n",
       "\n",
       "    .dataframe thead th {\n",
       "        text-align: right;\n",
       "    }\n",
       "</style>\n",
       "<table border=\"1\" class=\"dataframe\">\n",
       "  <thead>\n",
       "    <tr style=\"text-align: right;\">\n",
       "      <th></th>\n",
       "      <th>MVO_weights</th>\n",
       "      <th>HRP_weights</th>\n",
       "      <th>CLA_weights</th>\n",
       "    </tr>\n",
       "  </thead>\n",
       "  <tbody>\n",
       "    <tr>\n",
       "      <th>ETH_sent</th>\n",
       "      <td>0.02077</td>\n",
       "      <td>0.00000</td>\n",
       "      <td>0.02146</td>\n",
       "    </tr>\n",
       "    <tr>\n",
       "      <th>LINK_sent</th>\n",
       "      <td>0.11222</td>\n",
       "      <td>0.00000</td>\n",
       "      <td>0.09430</td>\n",
       "    </tr>\n",
       "    <tr>\n",
       "      <th>DOGE_sent</th>\n",
       "      <td>0.23258</td>\n",
       "      <td>0.00000</td>\n",
       "      <td>0.19500</td>\n",
       "    </tr>\n",
       "    <tr>\n",
       "      <th>ADA_sent</th>\n",
       "      <td>0.00000</td>\n",
       "      <td>0.00000</td>\n",
       "      <td>0.00000</td>\n",
       "    </tr>\n",
       "    <tr>\n",
       "      <th>BTC_carry</th>\n",
       "      <td>0.31142</td>\n",
       "      <td>0.54843</td>\n",
       "      <td>0.33978</td>\n",
       "    </tr>\n",
       "    <tr>\n",
       "      <th>ETH_carry</th>\n",
       "      <td>0.32301</td>\n",
       "      <td>0.45153</td>\n",
       "      <td>0.34946</td>\n",
       "    </tr>\n",
       "  </tbody>\n",
       "</table>\n",
       "</div>"
      ],
      "text/plain": [
       "           MVO_weights  HRP_weights  CLA_weights\n",
       "ETH_sent       0.02077      0.00000      0.02146\n",
       "LINK_sent      0.11222      0.00000      0.09430\n",
       "DOGE_sent      0.23258      0.00000      0.19500\n",
       "ADA_sent       0.00000      0.00000      0.00000\n",
       "BTC_carry      0.31142      0.54843      0.33978\n",
       "ETH_carry      0.32301      0.45153      0.34946"
      ]
     },
     "execution_count": 23,
     "metadata": {},
     "output_type": "execute_result"
    }
   ],
   "source": [
    "weights"
   ]
  },
  {
   "cell_type": "code",
   "execution_count": 24,
   "id": "99c46bf3",
   "metadata": {},
   "outputs": [],
   "source": [
    "weights.to_csv(\"optimised_weights.csv\")"
   ]
  },
  {
   "cell_type": "code",
   "execution_count": 25,
   "id": "da769784",
   "metadata": {},
   "outputs": [],
   "source": [
    "strategy_returns.to_csv(\"combined_strat_returns.csv\")"
   ]
  },
  {
   "cell_type": "markdown",
   "id": "2b0a7857",
   "metadata": {},
   "source": [
    "## Sources:\n",
    "\n",
    "https://pyportfolioopt.readthedocs.io/en/stable/index.html\n",
    "https://github.com/robertmartin8/PyPortfolioOpt/tree/1db089602dee348f1eade9b981ca21cd35f1dcca/cookbook\n",
    "\n",
    "https://pyportfolioopt.readthedocs.io/en/latest/"
   ]
  },
  {
   "cell_type": "code",
   "execution_count": null,
   "id": "01274d95",
   "metadata": {},
   "outputs": [],
   "source": []
  }
 ],
 "metadata": {
  "kernelspec": {
   "display_name": "Python 3",
   "language": "python",
   "name": "python3"
  },
  "language_info": {
   "codemirror_mode": {
    "name": "ipython",
    "version": 3
   },
   "file_extension": ".py",
   "mimetype": "text/x-python",
   "name": "python",
   "nbconvert_exporter": "python",
   "pygments_lexer": "ipython3",
   "version": "3.8.8"
  },
  "vscode": {
   "interpreter": {
    "hash": "40d3a090f54c6569ab1632332b64b2c03c39dcf918b08424e98f38b5ae0af88f"
   }
  }
 },
 "nbformat": 4,
 "nbformat_minor": 5
}
